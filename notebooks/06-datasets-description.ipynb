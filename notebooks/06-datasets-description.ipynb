{
 "cells": [
  {
   "cell_type": "code",
   "execution_count": 1,
   "id": "73809b38",
   "metadata": {},
   "outputs": [],
   "source": [
    "%load_ext autoreload"
   ]
  },
  {
   "cell_type": "code",
   "execution_count": 2,
   "id": "6f6c8037",
   "metadata": {},
   "outputs": [],
   "source": [
    "from pathlib import Path\n",
    "import pandas as pd\n",
    "%autoreload 2"
   ]
  },
  {
   "cell_type": "code",
   "execution_count": 3,
   "id": "25f5e1af",
   "metadata": {},
   "outputs": [],
   "source": [
    "BASE_DIR = Path(Path().cwd()).parent"
   ]
  },
  {
   "cell_type": "code",
   "execution_count": 4,
   "id": "ce6044a3",
   "metadata": {},
   "outputs": [],
   "source": [
    "raw_data_path = BASE_DIR / 'data/raw'"
   ]
  },
  {
   "cell_type": "code",
   "execution_count": 5,
   "id": "bce23f20",
   "metadata": {},
   "outputs": [
    {
     "data": {
      "text/plain": [
       "True"
      ]
     },
     "execution_count": 5,
     "metadata": {},
     "output_type": "execute_result"
    }
   ],
   "source": [
    "raw_data_path.exists()"
   ]
  },
  {
   "cell_type": "code",
   "execution_count": 6,
   "id": "a6551b3c",
   "metadata": {},
   "outputs": [],
   "source": [
    "target_data_path = BASE_DIR / 'data/processed'"
   ]
  },
  {
   "cell_type": "code",
   "execution_count": 7,
   "id": "a7b18a4c",
   "metadata": {},
   "outputs": [],
   "source": [
    "target = pd.read_csv(target_data_path / 'targets.csv',index_col=0)"
   ]
  },
  {
   "cell_type": "code",
   "execution_count": 8,
   "id": "c69d1b37",
   "metadata": {},
   "outputs": [
    {
     "data": {
      "text/html": [
       "<div>\n",
       "<style scoped>\n",
       "    .dataframe tbody tr th:only-of-type {\n",
       "        vertical-align: middle;\n",
       "    }\n",
       "\n",
       "    .dataframe tbody tr th {\n",
       "        vertical-align: top;\n",
       "    }\n",
       "\n",
       "    .dataframe thead th {\n",
       "        text-align: right;\n",
       "    }\n",
       "</style>\n",
       "<table border=\"1\" class=\"dataframe\">\n",
       "  <thead>\n",
       "    <tr style=\"text-align: right;\">\n",
       "      <th></th>\n",
       "      <th>1</th>\n",
       "    </tr>\n",
       "  </thead>\n",
       "  <tbody>\n",
       "    <tr>\n",
       "      <th>count</th>\n",
       "      <td>148.000000</td>\n",
       "    </tr>\n",
       "    <tr>\n",
       "      <th>mean</th>\n",
       "      <td>10.148649</td>\n",
       "    </tr>\n",
       "    <tr>\n",
       "      <th>std</th>\n",
       "      <td>4.308455</td>\n",
       "    </tr>\n",
       "    <tr>\n",
       "      <th>min</th>\n",
       "      <td>2.000000</td>\n",
       "    </tr>\n",
       "    <tr>\n",
       "      <th>25%</th>\n",
       "      <td>6.000000</td>\n",
       "    </tr>\n",
       "    <tr>\n",
       "      <th>50%</th>\n",
       "      <td>12.000000</td>\n",
       "    </tr>\n",
       "    <tr>\n",
       "      <th>75%</th>\n",
       "      <td>14.000000</td>\n",
       "    </tr>\n",
       "    <tr>\n",
       "      <th>max</th>\n",
       "      <td>16.000000</td>\n",
       "    </tr>\n",
       "  </tbody>\n",
       "</table>\n",
       "</div>"
      ],
      "text/plain": [
       "                1\n",
       "count  148.000000\n",
       "mean    10.148649\n",
       "std      4.308455\n",
       "min      2.000000\n",
       "25%      6.000000\n",
       "50%     12.000000\n",
       "75%     14.000000\n",
       "max     16.000000"
      ]
     },
     "execution_count": 8,
     "metadata": {},
     "output_type": "execute_result"
    }
   ],
   "source": [
    "target.describe()"
   ]
  },
  {
   "cell_type": "code",
   "execution_count": 9,
   "id": "88aa34f0",
   "metadata": {},
   "outputs": [
    {
     "data": {
      "text/plain": [
       "Index(['analcatdata_apnea1_2', 'analcatdata_apnea2_2', 'analcatdata_apnea3_2',\n",
       "       'analcatdata_boxing1_1', 'analcatdata_boxing2_1',\n",
       "       'analcatdata_challenger_2', 'analcatdata_chlamydia_2',\n",
       "       'analcatdata_creditscore_1', 'analcatdata_germangss_1',\n",
       "       'analcatdata_germangss_2',\n",
       "       ...\n",
       "       'vertebra-column_2', 'veteran_2', 'visualizing_environmental_2',\n",
       "       'visualizing_galaxy_2', 'visualizing_livestock_1',\n",
       "       'visualizing_livestock_2', 'wholesale-customers_1', 'wisconsin_2',\n",
       "       'zoo_1', 'zoo_2'],\n",
       "      dtype='object', length=148)"
      ]
     },
     "execution_count": 9,
     "metadata": {},
     "output_type": "execute_result"
    }
   ],
   "source": [
    "target.index"
   ]
  },
  {
   "cell_type": "code",
   "execution_count": 10,
   "id": "abe2bcb9",
   "metadata": {},
   "outputs": [],
   "source": [
    "data_used = []\n",
    "for i in target.index:\n",
    "    data_used.append(i + '.csv')"
   ]
  },
  {
   "cell_type": "code",
   "execution_count": 11,
   "id": "fc7061be",
   "metadata": {},
   "outputs": [
    {
     "data": {
      "text/plain": [
       "['analcatdata_apnea1_2.csv',\n",
       " 'analcatdata_apnea2_2.csv',\n",
       " 'analcatdata_apnea3_2.csv',\n",
       " 'analcatdata_boxing1_1.csv',\n",
       " 'analcatdata_boxing2_1.csv',\n",
       " 'analcatdata_challenger_2.csv',\n",
       " 'analcatdata_chlamydia_2.csv',\n",
       " 'analcatdata_creditscore_1.csv',\n",
       " 'analcatdata_germangss_1.csv',\n",
       " 'analcatdata_germangss_2.csv',\n",
       " 'analcatdata_impeach_1.csv',\n",
       " 'analcatdata_lawsuit_1.csv',\n",
       " 'analcatdata_michiganacc_2.csv',\n",
       " 'analcatdata_seropositive_2.csv',\n",
       " 'analcatdata_vineyard_2.csv',\n",
       " 'analcatdata_wildcat_2.csv',\n",
       " 'ar1_1.csv',\n",
       " 'ar4_1.csv',\n",
       " 'ar6_1.csv',\n",
       " 'backache_1.csv',\n",
       " 'badges2_1.csv',\n",
       " 'bodyfat_2.csv',\n",
       " 'calendarDOW_1.csv',\n",
       " 'cars1_1.csv',\n",
       " 'CastMetal1_1.csv',\n",
       " 'chatfield_4_2.csv',\n",
       " 'chscase_census2_2.csv',\n",
       " 'chscase_census4_2.csv',\n",
       " 'chscase_census6_2.csv',\n",
       " 'chscase_funds_2.csv',\n",
       " 'chscase_geyser1_2.csv',\n",
       " 'chscase_vine2_2.csv',\n",
       " 'cloud_2.csv',\n",
       " 'corral_1.csv',\n",
       " 'CostaMadre1_2.csv',\n",
       " 'cpu_2.csv',\n",
       " 'datatrieve_1.csv',\n",
       " 'diggle_table_a2_1.csv',\n",
       " 'diggle_table_a2_2.csv',\n",
       " 'dresses-sales_1.csv',\n",
       " 'ecoli_1.csv',\n",
       " 'ecoli_2.csv',\n",
       " 'ecoli_3.csv',\n",
       " 'Engine1_1.csv',\n",
       " 'flags_1.csv',\n",
       " 'fri_c0_100_10_2.csv',\n",
       " 'fri_c0_100_25_2.csv',\n",
       " 'fri_c0_100_50_2.csv',\n",
       " 'fri_c0_250_10_2.csv',\n",
       " 'fri_c0_250_25_2.csv',\n",
       " 'fri_c0_250_50_2.csv',\n",
       " 'fri_c0_500_25_2.csv',\n",
       " 'fri_c0_500_50_2.csv',\n",
       " 'fri_c1_100_50_2.csv',\n",
       " 'fri_c1_100_5_2.csv',\n",
       " 'fri_c1_250_10_2.csv',\n",
       " 'fri_c1_250_25_2.csv',\n",
       " 'fri_c1_250_50_2.csv',\n",
       " 'fri_c1_250_5_2.csv',\n",
       " 'fri_c1_500_10_2.csv',\n",
       " 'fri_c1_500_25_2.csv',\n",
       " 'fri_c1_500_50_2.csv',\n",
       " 'fri_c1_500_5_2.csv',\n",
       " 'fri_c2_100_10_2.csv',\n",
       " 'fri_c2_100_50_2.csv',\n",
       " 'fri_c2_100_5_2.csv',\n",
       " 'fri_c2_250_10_2.csv',\n",
       " 'fri_c2_250_25_2.csv',\n",
       " 'fri_c2_250_50_2.csv',\n",
       " 'fri_c2_250_5_2.csv',\n",
       " 'fri_c2_500_25_2.csv',\n",
       " 'fri_c2_500_50_2.csv',\n",
       " 'fri_c2_500_5_2.csv',\n",
       " 'fri_c3_100_25_2.csv',\n",
       " 'fri_c3_100_50_2.csv',\n",
       " 'fri_c3_100_5_2.csv',\n",
       " 'fri_c3_250_50_2.csv',\n",
       " 'fri_c3_250_5_2.csv',\n",
       " 'fri_c3_500_25_2.csv',\n",
       " 'fri_c3_500_50_2.csv',\n",
       " 'fri_c3_500_5_2.csv',\n",
       " 'fri_c4_100_100_2.csv',\n",
       " 'fri_c4_100_10_2.csv',\n",
       " 'fri_c4_100_50_2.csv',\n",
       " 'fri_c4_250_100_2.csv',\n",
       " 'fri_c4_250_50_2.csv',\n",
       " 'fri_c4_500_100_2.csv',\n",
       " 'fri_c4_500_25_2.csv',\n",
       " 'fri_c4_500_50_2.csv',\n",
       " 'fruitfly_2.csv',\n",
       " 'glass_1.csv',\n",
       " 'glass_2.csv',\n",
       " 'grub-damage_1.csv',\n",
       " 'grub-damage_2.csv',\n",
       " 'haberman_1.csv',\n",
       " 'hayes-roth_2.csv',\n",
       " 'heart-h_3.csv',\n",
       " 'humandevel_2.csv',\n",
       " 'iris_1.csv',\n",
       " 'iris_3.csv',\n",
       " 'iris_4.csv',\n",
       " 'jEdit_4.2_4.3_1.csv',\n",
       " 'kc3_1.csv',\n",
       " 'leaf_1.csv',\n",
       " 'LED-display-domain-7digit_1.csv',\n",
       " 'liver-disorders_1.csv',\n",
       " 'lowbwt_2.csv',\n",
       " 'machine_cpu_2.csv',\n",
       " 'mc2_1.csv',\n",
       " 'MeanWhile1_1.csv',\n",
       " 'MegaWatt1_1.csv',\n",
       " 'mu284_2.csv',\n",
       " 'MyIris_1.csv',\n",
       " 'newton_hema_2.csv',\n",
       " 'no2_2.csv',\n",
       " 'parkinsons_1.csv',\n",
       " 'pc1_req_1.csv',\n",
       " 'planning-relax_1.csv',\n",
       " 'plasma_retinol_2.csv',\n",
       " 'prnn_crabs_1.csv',\n",
       " 'prnn_fglass_1.csv',\n",
       " 'prnn_fglass_2.csv',\n",
       " 'prnn_synth_1.csv',\n",
       " 'rabe_266_2.csv',\n",
       " 'rmftsa_ctoarrivals_2.csv',\n",
       " 'seismic-bumps_1.csv',\n",
       " 'servo_1.csv',\n",
       " 'sleuth_case2002_2.csv',\n",
       " 'Smartphone-Based_Recognition_of_Human_Activities_1.csv',\n",
       " 'solar-flare_3.csv',\n",
       " 'SyskillWebert-BioMedical_1.csv',\n",
       " 'tae_1.csv',\n",
       " 'tae_2.csv',\n",
       " 'tecator_2.csv',\n",
       " 'thyroid-new_1.csv',\n",
       " 'transplant_2.csv',\n",
       " 'user-knowledge_1.csv',\n",
       " 'vertebra-column_1.csv',\n",
       " 'vertebra-column_2.csv',\n",
       " 'veteran_2.csv',\n",
       " 'visualizing_environmental_2.csv',\n",
       " 'visualizing_galaxy_2.csv',\n",
       " 'visualizing_livestock_1.csv',\n",
       " 'visualizing_livestock_2.csv',\n",
       " 'wholesale-customers_1.csv',\n",
       " 'wisconsin_2.csv',\n",
       " 'zoo_1.csv',\n",
       " 'zoo_2.csv']"
      ]
     },
     "execution_count": 11,
     "metadata": {},
     "output_type": "execute_result"
    }
   ],
   "source": [
    "data_used"
   ]
  },
  {
   "cell_type": "code",
   "execution_count": 12,
   "id": "72fdffc5",
   "metadata": {},
   "outputs": [],
   "source": [
    "import numpy as np\n",
    "\n",
    "descriptor = pd.DataFrame(data = np.zeros((148,3)),index=target.index,columns = ['Instâncias','Atributos',2])\n",
    "instances = []\n",
    "attributes = []\n",
    "\n",
    "for data in data_used:\n",
    "    df = pd.read_csv(raw_data_path / data)\n",
    "    instances.append(df.shape[0])\n",
    "    attributes.append(df.shape[1])\n",
    "    \n",
    "descriptor['Instâncias'] = instances\n",
    "descriptor['Atributos'] = attributes"
   ]
  },
  {
   "cell_type": "code",
   "execution_count": 13,
   "id": "7b40ea73",
   "metadata": {},
   "outputs": [
    {
     "data": {
      "text/plain": [
       "Instâncias    150.0\n",
       "Atributos       4.0\n",
       "2               0.0\n",
       "Name: iris_4, dtype: float64"
      ]
     },
     "execution_count": 13,
     "metadata": {},
     "output_type": "execute_result"
    }
   ],
   "source": [
    "descriptor.loc['iris_4']"
   ]
  },
  {
   "cell_type": "code",
   "execution_count": 14,
   "id": "7fd587f8",
   "metadata": {},
   "outputs": [
    {
     "data": {
      "text/plain": [
       "124"
      ]
     },
     "execution_count": 14,
     "metadata": {},
     "output_type": "execute_result"
    }
   ],
   "source": [
    "descriptor['Atributos'].max()"
   ]
  },
  {
   "cell_type": "code",
   "execution_count": 15,
   "id": "feb6bf4a",
   "metadata": {},
   "outputs": [
    {
     "data": {
      "text/plain": [
       "1"
      ]
     },
     "execution_count": 15,
     "metadata": {},
     "output_type": "execute_result"
    }
   ],
   "source": [
    "descriptor['Atributos'].min()"
   ]
  },
  {
   "cell_type": "code",
   "execution_count": 16,
   "id": "d52bcb5d",
   "metadata": {},
   "outputs": [
    {
     "data": {
      "text/plain": [
       "17.64189189189189"
      ]
     },
     "execution_count": 16,
     "metadata": {},
     "output_type": "execute_result"
    }
   ],
   "source": [
    "descriptor['Atributos'].mean()"
   ]
  },
  {
   "cell_type": "code",
   "execution_count": 17,
   "id": "a6f4de19",
   "metadata": {},
   "outputs": [
    {
     "data": {
      "text/plain": [
       "0    5\n",
       "dtype: int64"
      ]
     },
     "execution_count": 17,
     "metadata": {},
     "output_type": "execute_result"
    }
   ],
   "source": [
    "descriptor['Atributos'].mode()"
   ]
  },
  {
   "cell_type": "code",
   "execution_count": 18,
   "id": "6e635441",
   "metadata": {},
   "outputs": [
    {
     "data": {
      "text/plain": [
       "21.530238231407434"
      ]
     },
     "execution_count": 18,
     "metadata": {},
     "output_type": "execute_result"
    }
   ],
   "source": [
    "descriptor['Atributos'].std()"
   ]
  },
  {
   "cell_type": "code",
   "execution_count": 19,
   "id": "d9374663",
   "metadata": {},
   "outputs": [
    {
     "data": {
      "text/plain": [
       "2.336231815869592"
      ]
     },
     "execution_count": 19,
     "metadata": {},
     "output_type": "execute_result"
    }
   ],
   "source": [
    "descriptor['Atributos'].skew()"
   ]
  },
  {
   "cell_type": "code",
   "execution_count": 20,
   "id": "6bff345a",
   "metadata": {},
   "outputs": [
    {
     "data": {
      "text/plain": [
       "6.552600876973884"
      ]
     },
     "execution_count": 20,
     "metadata": {},
     "output_type": "execute_result"
    }
   ],
   "source": [
    "descriptor['Atributos'].kurtosis()"
   ]
  },
  {
   "cell_type": "code",
   "execution_count": 21,
   "id": "7d9ecb08",
   "metadata": {},
   "outputs": [
    {
     "data": {
      "text/plain": [
       "500"
      ]
     },
     "execution_count": 21,
     "metadata": {},
     "output_type": "execute_result"
    }
   ],
   "source": [
    "descriptor['Instâncias'].max()"
   ]
  },
  {
   "cell_type": "code",
   "execution_count": 22,
   "id": "8b444453",
   "metadata": {},
   "outputs": [
    {
     "data": {
      "text/plain": [
       "100"
      ]
     },
     "execution_count": 22,
     "metadata": {},
     "output_type": "execute_result"
    }
   ],
   "source": [
    "descriptor['Instâncias'].min()"
   ]
  },
  {
   "cell_type": "code",
   "execution_count": 23,
   "id": "37ac2977",
   "metadata": {},
   "outputs": [
    {
     "data": {
      "text/plain": [
       "257.3310810810811"
      ]
     },
     "execution_count": 23,
     "metadata": {},
     "output_type": "execute_result"
    }
   ],
   "source": [
    "descriptor['Instâncias'].mean()"
   ]
  },
  {
   "cell_type": "code",
   "execution_count": 24,
   "id": "e246f2fe",
   "metadata": {},
   "outputs": [
    {
     "data": {
      "text/plain": [
       "0    500\n",
       "dtype: int64"
      ]
     },
     "execution_count": 24,
     "metadata": {},
     "output_type": "execute_result"
    }
   ],
   "source": [
    "descriptor['Instâncias'].mode()"
   ]
  },
  {
   "cell_type": "code",
   "execution_count": 25,
   "id": "26bfd3aa",
   "metadata": {},
   "outputs": [
    {
     "data": {
      "text/plain": [
       "134.42092425561907"
      ]
     },
     "execution_count": 25,
     "metadata": {},
     "output_type": "execute_result"
    }
   ],
   "source": [
    "descriptor['Instâncias'].std()"
   ]
  },
  {
   "cell_type": "code",
   "execution_count": 26,
   "id": "ea187daa",
   "metadata": {},
   "outputs": [
    {
     "data": {
      "text/plain": [
       "0.5867729044404866"
      ]
     },
     "execution_count": 26,
     "metadata": {},
     "output_type": "execute_result"
    }
   ],
   "source": [
    "descriptor['Instâncias'].skew()"
   ]
  },
  {
   "cell_type": "code",
   "execution_count": 27,
   "id": "0cd60b09",
   "metadata": {},
   "outputs": [
    {
     "data": {
      "text/plain": [
       "-0.9111215752491191"
      ]
     },
     "execution_count": 27,
     "metadata": {},
     "output_type": "execute_result"
    }
   ],
   "source": [
    "descriptor['Instâncias'].kurtosis()"
   ]
  }
 ],
 "metadata": {
  "kernelspec": {
   "display_name": "Python 3",
   "language": "python",
   "name": "python3"
  },
  "language_info": {
   "codemirror_mode": {
    "name": "ipython",
    "version": 3
   },
   "file_extension": ".py",
   "mimetype": "text/x-python",
   "name": "python",
   "nbconvert_exporter": "python",
   "pygments_lexer": "ipython3",
   "version": "3.8.5"
  }
 },
 "nbformat": 4,
 "nbformat_minor": 5
}
