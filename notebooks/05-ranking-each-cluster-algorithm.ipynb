{
 "cells": [
  {
   "cell_type": "markdown",
   "id": "6e6949d7",
   "metadata": {},
   "source": [
    "# Ranking each cluster algorithm\n",
    "\n",
    "After getting the optimal $n$ cluster, we need to discover what is the best \n",
    "clustering algorithm through counting and ranking, then we point two targets\n",
    "against the metadataset"
   ]
  },
  {
   "cell_type": "code",
   "execution_count": 1,
   "id": "8b662080",
   "metadata": {},
   "outputs": [],
   "source": [
    "%load_ext autoreload"
   ]
  },
  {
   "cell_type": "code",
   "execution_count": 2,
   "id": "c2a50277",
   "metadata": {},
   "outputs": [],
   "source": [
    "%autoreload 2"
   ]
  },
  {
   "cell_type": "code",
   "execution_count": 3,
   "id": "47a96d4b",
   "metadata": {},
   "outputs": [],
   "source": [
    "import matplotlib.pyplot as plt\n",
    "import pandas as pd\n",
    "import seaborn as sns\n",
    "from sklearn.cluster import KMeans\n",
    "from sklearn.datasets import load_iris\n",
    "from sklearn.metrics.cluster import davies_bouldin_score, silhouette_score\n",
    "from sklearn.preprocessing import MinMaxScaler\n",
    "\n",
    "from src.cluster import KMedoids, FCM\n",
    "from src.metrics import wgss_score, dunn_score, sd_dis_score\n",
    "from src.ranking.vector_measures import (\n",
    "    get_n_groups_elbow_technique,\n",
    "    get_n_groups_information_criteria,\n",
    "    get_n_groups_max_diff,\n",
    "    get_n_groups_min_diff\n",
    ")"
   ]
  },
  {
   "cell_type": "markdown",
   "id": "58df7832",
   "metadata": {},
   "source": [
    "First we instatiate the `MinMaxScaler` and set a new range of $n$ clusters"
   ]
  },
  {
   "cell_type": "code",
   "execution_count": 4,
   "id": "544c0ab9",
   "metadata": {},
   "outputs": [],
   "source": [
    "min_nc, max_nc, step = 2, 16, 2\n",
    "mms = MinMaxScaler()"
   ]
  },
  {
   "cell_type": "code",
   "execution_count": 5,
   "id": "1b92ba1c",
   "metadata": {},
   "outputs": [],
   "source": [
    "iris, target = load_iris(return_X_y = True)\n",
    "scaled_iris = mms.fit_transform(iris)"
   ]
  },
  {
   "cell_type": "markdown",
   "id": "085a91ac",
   "metadata": {},
   "source": [
    "## Get the optimal $n$ clusters for each clustering algorithm "
   ]
  },
  {
   "cell_type": "markdown",
   "id": "fd149e13",
   "metadata": {},
   "source": [
    "### AIC and BIC"
   ]
  },
  {
   "cell_type": "code",
   "execution_count": 6,
   "id": "df698004",
   "metadata": {},
   "outputs": [],
   "source": [
    "ng_aic, index_aic = get_n_groups_information_criteria(scaled_iris, 'aic', min_nc, max_nc, step)\n",
    "ng_bic, index_bic = get_n_groups_information_criteria(scaled_iris, 'bic', min_nc, max_nc, step)"
   ]
  },
  {
   "cell_type": "markdown",
   "id": "2474ca0d",
   "metadata": {},
   "source": [
    "### K-Means"
   ]
  },
  {
   "cell_type": "code",
   "execution_count": 7,
   "id": "6c3cc44d",
   "metadata": {},
   "outputs": [],
   "source": [
    "kmeans_ng, kmeans_index = get_n_groups_elbow_technique(scaled_iris, KMeans, min_nc, max_nc, step)\n",
    "kmeans_ng_dunn, kmeans_index_dunn = get_n_groups_max_diff(scaled_iris, KMeans, 'dunn', min_nc, max_nc, step)\n",
    "kmeans_ng_sil, kmeans_index_sil = get_n_groups_max_diff(scaled_iris, KMeans, 'sil', min_nc, max_nc, step)\n",
    "kmeans_ng_davies, kmeans_index_davies = get_n_groups_min_diff(scaled_iris, KMeans, 'davies', min_nc, max_nc, step)\n",
    "kmeans_ng_sddis, kmeans_index_sddis = get_n_groups_min_diff(scaled_iris, KMeans, 'sddis', min_nc, max_nc, step)"
   ]
  },
  {
   "cell_type": "markdown",
   "id": "83129f0f",
   "metadata": {},
   "source": [
    "### K-Medoids"
   ]
  },
  {
   "cell_type": "code",
   "execution_count": 8,
   "id": "7218628d",
   "metadata": {},
   "outputs": [],
   "source": [
    "kmedoids_ng, kmedoids_index = get_n_groups_elbow_technique(scaled_iris, KMedoids, min_nc, max_nc, step)\n",
    "kmedoids_ng_dunn, kmedoids_index_dunn = get_n_groups_max_diff(scaled_iris, KMedoids, 'dunn', min_nc, max_nc, step)\n",
    "kmedoids_ng_sil, kmedoids_index_sil = get_n_groups_max_diff(scaled_iris, KMedoids, 'sil', min_nc, max_nc, step)\n",
    "kmedoids_ng_davies, kmedoids_index_davies = get_n_groups_min_diff(scaled_iris, KMedoids, 'davies', min_nc, max_nc, step)\n",
    "kmedoids_ng_sddis, kmedoids_index_sddis = get_n_groups_min_diff(scaled_iris, KMedoids, 'sddis', min_nc, max_nc, step)"
   ]
  },
  {
   "cell_type": "markdown",
   "id": "1f522e00",
   "metadata": {},
   "source": [
    "### Fuzzy C-Means"
   ]
  },
  {
   "cell_type": "code",
   "execution_count": 9,
   "id": "01ab0dfc",
   "metadata": {},
   "outputs": [],
   "source": [
    "fuzzy_ng, fuzzy_index = get_n_groups_elbow_technique(scaled_iris, FCM, min_nc, max_nc, step)\n",
    "fuzzy_ng_dunn, fuzzy_index_dunn = get_n_groups_max_diff(scaled_iris, FCM, 'dunn', min_nc, max_nc, step)\n",
    "fuzzy_ng_sil, fuzzy_index_sil = get_n_groups_max_diff(scaled_iris, FCM, 'sil', min_nc, max_nc, step)\n",
    "fuzzy_ng_davies, fuzzy_index_davies = get_n_groups_min_diff(scaled_iris, FCM, 'davies', min_nc, max_nc, step)\n",
    "fuzzy_ng_sddis, fuzzy_index_sddis = get_n_groups_min_diff(scaled_iris, FCM, 'sddis', min_nc, max_nc, step)"
   ]
  },
  {
   "cell_type": "markdown",
   "id": "440f89c5",
   "metadata": {},
   "source": [
    "Here we generate a `pandas` Dataframe to store the $n$ clusters found for each metric."
   ]
  },
  {
   "cell_type": "code",
   "execution_count": 10,
   "id": "fe044927",
   "metadata": {},
   "outputs": [],
   "source": [
    "df_index_metrics = ['AIC','BIC','Elbow','Dunn','Silhouette','Davies-Bouldin','SD-Dis']\n",
    "df_columns = ['K-Means','K-Medoids','Fuzzy C-Means']\n",
    "df = pd.DataFrame(\n",
    "    data = list(zip(\n",
    "        [ng_aic, ng_bic, kmeans_ng, kmeans_ng_dunn, kmeans_ng_sil, kmeans_ng_davies, kmeans_ng_sddis],\n",
    "        [ng_aic, ng_bic, kmedoids_ng, kmedoids_ng_dunn, kmedoids_ng_sil, kmedoids_ng_davies, kmedoids_ng_sddis],\n",
    "        [ng_aic, ng_bic, fuzzy_ng, fuzzy_ng_dunn, fuzzy_ng_sil, fuzzy_ng_davies, fuzzy_ng_sddis]\n",
    "    ))\n",
    "    ,\n",
    "    index = df_index_metrics, \n",
    "    columns = df_columns\n",
    ")"
   ]
  },
  {
   "cell_type": "markdown",
   "id": "a49fe835",
   "metadata": {},
   "source": [
    "Here we count the appearing of a n cluster in each metrics for each cluster"
   ]
  },
  {
   "cell_type": "code",
   "execution_count": 11,
   "id": "cb6ee3bd",
   "metadata": {},
   "outputs": [
    {
     "data": {
      "text/plain": [
       "2     1\n",
       "12    2\n",
       "8     2\n",
       "Name: K-Means, dtype: uint8"
      ]
     },
     "execution_count": 11,
     "metadata": {},
     "output_type": "execute_result"
    }
   ],
   "source": [
    "df['K-Means'].value_counts().rank(ascending=False,method='min').astype('uint8')"
   ]
  },
  {
   "cell_type": "code",
   "execution_count": 12,
   "id": "23434851",
   "metadata": {},
   "outputs": [
    {
     "data": {
      "text/plain": [
       "2     1\n",
       "12    2\n",
       "8     2\n",
       "Name: K-Medoids, dtype: uint8"
      ]
     },
     "execution_count": 12,
     "metadata": {},
     "output_type": "execute_result"
    }
   ],
   "source": [
    "df['K-Medoids'].value_counts().rank(ascending=False,method='min').astype('uint8')"
   ]
  },
  {
   "cell_type": "code",
   "execution_count": 13,
   "id": "d2ca2fbc",
   "metadata": {},
   "outputs": [
    {
     "data": {
      "text/plain": [
       "2     1\n",
       "8     2\n",
       "12    3\n",
       "Name: Fuzzy C-Means, dtype: uint8"
      ]
     },
     "execution_count": 13,
     "metadata": {},
     "output_type": "execute_result"
    }
   ],
   "source": [
    "df['Fuzzy C-Means'].value_counts().rank(ascending=False,method='min').astype('uint8')"
   ]
  },
  {
   "cell_type": "markdown",
   "id": "c7d5b622",
   "metadata": {},
   "source": [
    "Once found the rankings of each number of cluster, we get this information to compare the cluster algorithms against the metrics again with the optimal $n$ cluster."
   ]
  },
  {
   "cell_type": "markdown",
   "id": "b2fe53a2",
   "metadata": {},
   "source": [
    "To skip some steps, i already know the best number of clusters to each algorithm is 2, however in another scenarios we need to adapt to accept other numbers."
   ]
  },
  {
   "cell_type": "code",
   "execution_count": 14,
   "id": "0bbb9982",
   "metadata": {},
   "outputs": [],
   "source": [
    "default_params = {'n_clusters': 2,'random_state': 42}\n",
    "km = KMeans(**default_params)\n",
    "kmd = KMedoids(**default_params, init = 'kmedoids++')\n",
    "fcm = FCM(**default_params)\n",
    "\n",
    "y_pred_km = km.fit_predict(scaled_iris)\n",
    "y_pred_kmd = kmd.fit_predict(scaled_iris)\n",
    "y_pred_fcm = fcm.fit_predict(scaled_iris) "
   ]
  },
  {
   "cell_type": "markdown",
   "id": "75ef3c48",
   "metadata": {},
   "source": [
    "A dictionary is used to store the metrics to calculate again with the clusters algorithm"
   ]
  },
  {
   "cell_type": "code",
   "execution_count": 22,
   "id": "9374ccaa",
   "metadata": {},
   "outputs": [],
   "source": [
    "metrics_dict = dict(\n",
    "    elbow = [\n",
    "        wgss_score(scaled_iris, y_pred_km),\n",
    "        wgss_score(scaled_iris, y_pred_kmd), \n",
    "        wgss_score(scaled_iris, y_pred_fcm)\n",
    "    ],\n",
    "    dunn = [\n",
    "        dunn_score(scaled_iris, y_pred_km), \n",
    "        dunn_score(scaled_iris, y_pred_kmd), \n",
    "        dunn_score(scaled_iris, y_pred_fcm)\n",
    "    ],\n",
    "    silhouette = [\n",
    "        silhouette_score(scaled_iris, y_pred_km), \n",
    "        silhouette_score(scaled_iris, y_pred_kmd), \n",
    "        silhouette_score(scaled_iris, y_pred_fcm)\n",
    "    ],\n",
    "    davies_bouldin = [\n",
    "        davies_bouldin_score(scaled_iris, y_pred_km),\n",
    "        davies_bouldin_score(scaled_iris, y_pred_kmd),\n",
    "        davies_bouldin_score(scaled_iris, y_pred_fcm)\n",
    "    ],\n",
    "    sddis = [\n",
    "        sd_dis_score(scaled_iris, y_pred_km),\n",
    "        sd_dis_score(scaled_iris, y_pred_kmd),\n",
    "        sd_dis_score(scaled_iris, y_pred_fcm)\n",
    "    ]\n",
    ")"
   ]
  },
  {
   "cell_type": "markdown",
   "id": "0e78d19b",
   "metadata": {},
   "source": [
    "In next section we plot the results to compare again."
   ]
  },
  {
   "cell_type": "markdown",
   "id": "ffeb77ab",
   "metadata": {},
   "source": [
    "# Elbow Method"
   ]
  },
  {
   "cell_type": "code",
   "execution_count": 16,
   "id": "f77f367d",
   "metadata": {},
   "outputs": [
    {
     "data": {
      "text/plain": [
       "<AxesSubplot:>"
      ]
     },
     "execution_count": 16,
     "metadata": {},
     "output_type": "execute_result"
    },
    {
     "data": {
      "image/png": "[encoded data removed]",
      "text/plain": [
       "<Figure size 864x432 with 1 Axes>"
      ]
     },
     "metadata": {
      "needs_background": "light"
     },
     "output_type": "display_data"
    }
   ],
   "source": [
    "l_wgss = metrics_dict['elbow']\n",
    "\n",
    "plt.figure(figsize = (12, 6))\n",
    "sns.barplot(x = df_columns,y = l_wgss, palette = 'viridis')"
   ]
  },
  {
   "cell_type": "markdown",
   "id": "e8f6ba35",
   "metadata": {},
   "source": [
    "# Dunn Score"
   ]
  },
  {
   "cell_type": "code",
   "execution_count": 17,
   "id": "a9f1c339",
   "metadata": {},
   "outputs": [
    {
     "data": {
      "text/plain": [
       "<AxesSubplot:>"
      ]
     },
     "execution_count": 17,
     "metadata": {},
     "output_type": "execute_result"
    },
    {
     "data": {
      "image/png": "[encoded data removed]",
      "text/plain": [
       "<Figure size 864x432 with 1 Axes>"
      ]
     },
     "metadata": {
      "needs_background": "light"
     },
     "output_type": "display_data"
    }
   ],
   "source": [
    "l_dunn = metrics_dict['dunn']\n",
    "\n",
    "plt.figure(figsize = (12,6))\n",
    "sns.barplot(x = df_columns,y = l_dunn, palette = 'viridis')"
   ]
  },
  {
   "cell_type": "markdown",
   "id": "b4e3ecf7",
   "metadata": {},
   "source": [
    "# Silhouette Score"
   ]
  },
  {
   "cell_type": "code",
   "execution_count": 23,
   "id": "99a1469f",
   "metadata": {},
   "outputs": [
    {
     "data": {
      "text/plain": [
       "<AxesSubplot:>"
      ]
     },
     "execution_count": 23,
     "metadata": {},
     "output_type": "execute_result"
    },
    {
     "data": {
      "image/png": "[encoded data removed]",
      "text/plain": [
       "<Figure size 864x432 with 1 Axes>"
      ]
     },
     "metadata": {
      "needs_background": "light"
     },
     "output_type": "display_data"
    }
   ],
   "source": [
    "l_sil = metrics_dict['silhouette']\n",
    "\n",
    "plt.figure(figsize=(12,6))\n",
    "sns.barplot(x=df_columns,y=l_sil,palette='viridis')"
   ]
  },
  {
   "cell_type": "markdown",
   "id": "7c057d70",
   "metadata": {},
   "source": [
    "# Davies-Bouldin Score"
   ]
  },
  {
   "cell_type": "code",
   "execution_count": 24,
   "id": "728d7525",
   "metadata": {},
   "outputs": [
    {
     "data": {
      "text/plain": [
       "<AxesSubplot:>"
      ]
     },
     "execution_count": 24,
     "metadata": {},
     "output_type": "execute_result"
    },
    {
     "data": {
      "image/png": "[encoded data removed]",
      "text/plain": [
       "<Figure size 864x432 with 1 Axes>"
      ]
     },
     "metadata": {
      "needs_background": "light"
     },
     "output_type": "display_data"
    }
   ],
   "source": [
    "l_davies = metrics_dict['davies_bouldin']\n",
    "\n",
    "plt.figure(figsize = (12,6))\n",
    "sns.barplot(x = df_columns, y = l_davies, palette = 'viridis')"
   ]
  },
  {
   "cell_type": "markdown",
   "id": "4148d8ad",
   "metadata": {},
   "source": [
    "# SD-Distance Score"
   ]
  },
  {
   "cell_type": "code",
   "execution_count": 25,
   "id": "0d9c774d",
   "metadata": {},
   "outputs": [
    {
     "data": {
      "text/plain": [
       "<AxesSubplot:>"
      ]
     },
     "execution_count": 25,
     "metadata": {},
     "output_type": "execute_result"
    },
    {
     "data": {
      "image/png": "[encoded data removed]",
      "text/plain": [
       "<Figure size 864x432 with 1 Axes>"
      ]
     },
     "metadata": {
      "needs_background": "light"
     },
     "output_type": "display_data"
    }
   ],
   "source": [
    "l_sddis = metrics_dict['sddis']\n",
    "\n",
    "plt.figure(figsize=(12,6))\n",
    "sns.barplot(x=df_columns,y=l_sddis,palette='viridis')"
   ]
  },
  {
   "cell_type": "code",
   "execution_count": 26,
   "id": "110682b1",
   "metadata": {},
   "outputs": [
    {
     "data": {
      "text/html": [
       "<div>\n",
       "<style scoped>\n",
       "    .dataframe tbody tr th:only-of-type {\n",
       "        vertical-align: middle;\n",
       "    }\n",
       "\n",
       "    .dataframe tbody tr th {\n",
       "        vertical-align: top;\n",
       "    }\n",
       "\n",
       "    .dataframe thead th {\n",
       "        text-align: right;\n",
       "    }\n",
       "</style>\n",
       "<table border=\"1\" class=\"dataframe\">\n",
       "  <thead>\n",
       "    <tr style=\"text-align: right;\">\n",
       "      <th></th>\n",
       "      <th>K-Means</th>\n",
       "      <th>K-Medoids</th>\n",
       "      <th>Fuzzy C-Means</th>\n",
       "    </tr>\n",
       "  </thead>\n",
       "  <tbody>\n",
       "    <tr>\n",
       "      <th>elbow</th>\n",
       "      <td>12.127791</td>\n",
       "      <td>12.127791</td>\n",
       "      <td>12.217183</td>\n",
       "    </tr>\n",
       "    <tr>\n",
       "      <th>dunn</th>\n",
       "      <td>0.358112</td>\n",
       "      <td>0.358112</td>\n",
       "      <td>0.100247</td>\n",
       "    </tr>\n",
       "    <tr>\n",
       "      <th>silhouette</th>\n",
       "      <td>0.630047</td>\n",
       "      <td>0.630047</td>\n",
       "      <td>0.618403</td>\n",
       "    </tr>\n",
       "    <tr>\n",
       "      <th>davies_bouldin</th>\n",
       "      <td>0.486167</td>\n",
       "      <td>0.486167</td>\n",
       "      <td>0.514449</td>\n",
       "    </tr>\n",
       "    <tr>\n",
       "      <th>sddis</th>\n",
       "      <td>2.142810</td>\n",
       "      <td>2.142810</td>\n",
       "      <td>2.176166</td>\n",
       "    </tr>\n",
       "  </tbody>\n",
       "</table>\n",
       "</div>"
      ],
      "text/plain": [
       "                  K-Means  K-Medoids  Fuzzy C-Means\n",
       "elbow           12.127791  12.127791      12.217183\n",
       "dunn             0.358112   0.358112       0.100247\n",
       "silhouette       0.630047   0.630047       0.618403\n",
       "davies_bouldin   0.486167   0.486167       0.514449\n",
       "sddis            2.142810   2.142810       2.176166"
      ]
     },
     "execution_count": 26,
     "metadata": {},
     "output_type": "execute_result"
    }
   ],
   "source": [
    "df_cluster_algo = pd.DataFrame.from_dict(data = metrics_dict,orient='index',columns = df_columns)\n",
    "df_cluster_algo"
   ]
  },
  {
   "cell_type": "code",
   "execution_count": 68,
   "id": "74c89a6d",
   "metadata": {},
   "outputs": [
    {
     "data": {
      "text/html": [
       "<div>\n",
       "<style scoped>\n",
       "    .dataframe tbody tr th:only-of-type {\n",
       "        vertical-align: middle;\n",
       "    }\n",
       "\n",
       "    .dataframe tbody tr th {\n",
       "        vertical-align: top;\n",
       "    }\n",
       "\n",
       "    .dataframe thead th {\n",
       "        text-align: right;\n",
       "    }\n",
       "</style>\n",
       "<table border=\"1\" class=\"dataframe\">\n",
       "  <thead>\n",
       "    <tr style=\"text-align: right;\">\n",
       "      <th></th>\n",
       "      <th>K-Means</th>\n",
       "      <th>K-Medoids</th>\n",
       "      <th>Fuzzy C-Means</th>\n",
       "    </tr>\n",
       "  </thead>\n",
       "  <tbody>\n",
       "    <tr>\n",
       "      <th>elbow</th>\n",
       "      <td>1</td>\n",
       "      <td>1</td>\n",
       "      <td>3</td>\n",
       "    </tr>\n",
       "    <tr>\n",
       "      <th>dunn</th>\n",
       "      <td>1</td>\n",
       "      <td>1</td>\n",
       "      <td>3</td>\n",
       "    </tr>\n",
       "    <tr>\n",
       "      <th>silhouette</th>\n",
       "      <td>1</td>\n",
       "      <td>1</td>\n",
       "      <td>3</td>\n",
       "    </tr>\n",
       "    <tr>\n",
       "      <th>davies_bouldin</th>\n",
       "      <td>1</td>\n",
       "      <td>1</td>\n",
       "      <td>3</td>\n",
       "    </tr>\n",
       "    <tr>\n",
       "      <th>sddis</th>\n",
       "      <td>1</td>\n",
       "      <td>1</td>\n",
       "      <td>3</td>\n",
       "    </tr>\n",
       "  </tbody>\n",
       "</table>\n",
       "</div>"
      ],
      "text/plain": [
       "               K-Means K-Medoids Fuzzy C-Means\n",
       "elbow                1         1             3\n",
       "dunn                 1         1             3\n",
       "silhouette           1         1             3\n",
       "davies_bouldin       1         1             3\n",
       "sddis                1         1             3"
      ]
     },
     "execution_count": 68,
     "metadata": {},
     "output_type": "execute_result"
    }
   ],
   "source": [
    "df_final_rank = pd.DataFrame(columns = df_columns, index = list(metrics_dict.keys()))\n",
    "for i in df_cluster_algo.index.values.tolist():\n",
    "    if i=='silhouette' or i == 'dunn':\n",
    "        df_final_rank.loc[[i]] = df_cluster_algo.loc[[i]].rank(axis='columns',ascending=False,method='min')\n",
    "    if i == 'davies_bouldin' or i == 'sddis' or i == 'elbow':\n",
    "        df_final_rank.loc[[i]] = df_cluster_algo.loc[[i]].rank(axis='columns',ascending=True,method='min')\n",
    "df_final_rank"
   ]
  },
  {
   "cell_type": "code",
   "execution_count": 72,
   "id": "14f0d73e",
   "metadata": {},
   "outputs": [
    {
     "data": {
      "text/plain": [
       "K-Means          1.0\n",
       "K-Medoids        1.0\n",
       "Fuzzy C-Means    3.0\n",
       "dtype: float64"
      ]
     },
     "execution_count": 72,
     "metadata": {},
     "output_type": "execute_result"
    }
   ],
   "source": [
    "df_final_rank.mean()"
   ]
  },
  {
   "cell_type": "markdown",
   "id": "99765fb6",
   "metadata": {},
   "source": [
    "# Final result\n",
    "\n",
    "As you can see in the Iris Dataset, the best algorithm is K-Means with 2 cluster or K-Medoids with the same number of clusters."
   ]
  },
  {
   "cell_type": "code",
   "execution_count": 80,
   "id": "7d058046",
   "metadata": {},
   "outputs": [
    {
     "data": {
      "text/html": [
       "<div>\n",
       "<style scoped>\n",
       "    .dataframe tbody tr th:only-of-type {\n",
       "        vertical-align: middle;\n",
       "    }\n",
       "\n",
       "    .dataframe tbody tr th {\n",
       "        vertical-align: top;\n",
       "    }\n",
       "\n",
       "    .dataframe thead th {\n",
       "        text-align: right;\n",
       "    }\n",
       "</style>\n",
       "<table border=\"1\" class=\"dataframe\">\n",
       "  <thead>\n",
       "    <tr style=\"text-align: right;\">\n",
       "      <th></th>\n",
       "      <th>K-Means</th>\n",
       "    </tr>\n",
       "  </thead>\n",
       "  <tbody>\n",
       "    <tr>\n",
       "      <th>0</th>\n",
       "      <td>1.0</td>\n",
       "    </tr>\n",
       "  </tbody>\n",
       "</table>\n",
       "</div>"
      ],
      "text/plain": [
       "   K-Means\n",
       "0      1.0"
      ]
     },
     "execution_count": 80,
     "metadata": {},
     "output_type": "execute_result"
    }
   ],
   "source": [
    "df_winner = pd.DataFrame(\n",
    "    columns = [df_final_rank.mean().rank(ascending=True,method='min').idxmin()],\n",
    "    data = [df_final_rank.mean().rank(ascending=True, method='min').min()]\n",
    ")\n",
    "df_winner"
   ]
  }
 ],
 "metadata": {
  "interpreter": {
   "hash": "4442a059423b1d8cb2d566f1d7a9e596fd1852f4b9b9e9d6f69b72f942b31330"
  },
  "kernelspec": {
   "display_name": "Python 3",
   "language": "python",
   "name": "python3"
  },
  "language_info": {
   "codemirror_mode": {
    "name": "ipython",
    "version": 3
   },
   "file_extension": ".py",
   "mimetype": "text/x-python",
   "name": "python",
   "nbconvert_exporter": "python",
   "pygments_lexer": "ipython3",
   "version": "3.8.5"
  }
 },
 "nbformat": 4,
 "nbformat_minor": 5
}
