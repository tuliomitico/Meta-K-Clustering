{
 "cells": [
  {
   "cell_type": "markdown",
   "metadata": {},
   "source": [
    "# EDA do meta-vetor"
   ]
  },
  {
   "cell_type": "code",
   "execution_count": 1,
   "metadata": {},
   "outputs": [],
   "source": [
    "%load_ext autoreload"
   ]
  },
  {
   "cell_type": "code",
   "execution_count": 2,
   "metadata": {},
   "outputs": [],
   "source": [
    "import numpy as np\n",
    "from src.data.make_dataset import data\n",
    "%autoreload 2 "
   ]
  },
  {
   "cell_type": "markdown",
   "metadata": {},
   "source": [
    "## Importa o banco de dados escolhido"
   ]
  },
  {
   "cell_type": "code",
   "execution_count": 3,
   "metadata": {},
   "outputs": [
    {
     "data": {
      "text/plain": [
       "array([[5.1, 3.5, 1.4, 0.2],\n",
       "       [4.9, 3. , 1.4, 0.2],\n",
       "       [4.7, 3.2, 1.3, 0.2],\n",
       "       [4.6, 3.1, 1.5, 0.2],\n",
       "       [5. , 3.6, 1.4, 0.2]])"
      ]
     },
     "execution_count": 3,
     "metadata": {},
     "output_type": "execute_result"
    }
   ],
   "source": [
    "data[:5]"
   ]
  },
  {
   "cell_type": "code",
   "execution_count": 4,
   "metadata": {},
   "outputs": [],
   "source": [
    "n = len(data)"
   ]
  },
  {
   "cell_type": "markdown",
   "metadata": {},
   "source": [
    "Tenta fazer as fórmulas de Density\n",
    "---\n",
    "\n",
    "## $$P[r] = \\frac{1}{n} \\sum_{n=1}^{n} \\frac{1}{h^p}\\phi \\bigg( \\frac{d(\\boldsymbol{x}_r,\\boldsymbol{x}_s)}{h} \\bigg)$$"
   ]
  },
  {
   "cell_type": "markdown",
   "metadata": {},
   "source": [
    "Fórmula $\\phi$ \n",
    "---\n",
    "\n",
    "## $$\\phi(u) = \\frac{1}{\\sqrt{2\\pi}}e^{\\frac{-u^{2}}{2}}$$"
   ]
  },
  {
   "cell_type": "code",
   "execution_count": 5,
   "metadata": {},
   "outputs": [],
   "source": [
    "def phi_fn(u):\n",
    "    x = 1 / np.sqrt(2 * np.pi)\n",
    "    return x * np.e ** (-u ** 2 / 2)"
   ]
  },
  {
   "cell_type": "markdown",
   "metadata": {},
   "source": [
    "### Vetor $P$"
   ]
  },
  {
   "cell_type": "code",
   "execution_count": 6,
   "metadata": {},
   "outputs": [],
   "source": [
    "P = np.zeros(n)"
   ]
  },
  {
   "cell_type": "markdown",
   "metadata": {},
   "source": [
    "### Vetor $P'$"
   ]
  },
  {
   "cell_type": "code",
   "execution_count": 7,
   "metadata": {},
   "outputs": [],
   "source": [
    "P_linha = np.zeros(n)"
   ]
  },
  {
   "cell_type": "markdown",
   "metadata": {},
   "source": [
    "### Matriz $Q$"
   ]
  },
  {
   "cell_type": "code",
   "execution_count": 8,
   "metadata": {},
   "outputs": [],
   "source": [
    "Q = np.empty((n,n))"
   ]
  },
  {
   "cell_type": "markdown",
   "metadata": {},
   "source": [
    "### $p$ variáveis"
   ]
  },
  {
   "cell_type": "code",
   "execution_count": 9,
   "metadata": {},
   "outputs": [
    {
     "data": {
      "text/plain": [
       "600"
      ]
     },
     "execution_count": 9,
     "metadata": {},
     "output_type": "execute_result"
    }
   ],
   "source": [
    "p = data.size\n",
    "p"
   ]
  },
  {
   "cell_type": "code",
   "execution_count": 10,
   "metadata": {},
   "outputs": [],
   "source": [
    "for r in range(n):\n",
    "    for s in range(r,n):\n",
    "        Q[r,s] = phi_fn(np.linalg.norm(data[r] - data[s]) / 1)"
   ]
  },
  {
   "cell_type": "code",
   "execution_count": 11,
   "metadata": {},
   "outputs": [],
   "source": [
    "for r in range(n):\n",
    "    P[r] = (1/n) * np.sum((1 / p) * Q[r])"
   ]
  },
  {
   "cell_type": "code",
   "execution_count": 12,
   "metadata": {},
   "outputs": [
    {
     "data": {
      "text/plain": [
       "array([ 1.93235354e-004,  1.77847295e-004,  1.74070259e-004,\n",
       "        1.64622460e-004,  1.75703951e-004,  1.47737020e-004,\n",
       "        1.58228643e-004,  1.67615277e-004,  1.25327740e-004,\n",
       "       -2.38977948e+263, -2.19217775e+267,  1.47773787e-004,\n",
       "       -5.36375714e+247, -5.98945792e+171,  9.50862968e-005,\n",
       "        7.86018903e-005,  1.12773472e-004,  1.30719836e-004,\n",
       "        9.80832890e-005,  1.15316693e-004,  1.12386521e-004,\n",
       "        1.10071924e-004,  9.00745837e-005,  1.07321480e-004,\n",
       "        9.89416476e-005,  9.71191537e-005,  9.68130642e-005,\n",
       "        9.04455660e-005,  8.60251367e-005,  8.11053496e-005,\n",
       "        7.73254095e-005,  7.08732607e-005,  5.56538907e-005,\n",
       "        4.40352428e-005,  6.45966685e-005,  5.84651020e-005,\n",
       "        4.77764288e-005,  5.26559768e-005,  4.20488190e-005,\n",
       "        4.55280521e-005,  3.96427790e-005,  2.36878767e-005,\n",
       "        2.89945417e-005,  3.22782130e-005,  2.74817439e-005,\n",
       "        2.24133376e-005,  1.85996121e-005,  1.41281131e-005,\n",
       "        1.10442139e-005,  7.39312878e-006,  1.88412360e-004,\n",
       "        2.33238326e-004,  2.07015224e-004,  1.74184830e-004,\n",
       "        2.34831580e-004,  2.21882189e-004,  2.22917190e-004,\n",
       "        8.15942903e-005,  2.05928196e-004,  1.45584205e-004,\n",
       "        7.61375857e-005,  2.00904319e-004,  1.41449059e-004,\n",
       "        2.21823039e-004,  1.28296836e-004,  1.70081707e-004,\n",
       "        1.85328586e-004,  1.52484150e-004,  1.66687028e-004,\n",
       "        1.28573396e-004,  1.92369055e-004,  1.48903720e-004,\n",
       "        1.88458838e-004,  1.74933721e-004,  1.52846209e-004,\n",
       "        1.48741703e-004,  1.53609406e-004,  1.76376413e-004,\n",
       "        1.64297172e-004,  8.09403911e-005,  9.01001776e-005,\n",
       "        7.75137912e-005,  1.01828207e-004,  1.67956200e-004,\n",
       "        1.18328903e-004,  1.26722181e-004,  1.34019386e-004,\n",
       "        1.05164427e-004,  9.34980135e-005,  8.02643645e-005,\n",
       "        9.10259915e-005,  1.23046283e-004,  7.38111342e-005,\n",
       "        2.56995772e-005,  7.73731630e-005,  7.20287620e-005,\n",
       "        7.20713426e-005,  8.15835208e-005,  1.22751803e-005,\n",
       "        5.67400500e-005,  1.17814102e-004,  1.21185997e-004,\n",
       "        1.29699544e-004,  1.39123363e-004,  1.34270346e-004,\n",
       "        7.04608976e-005,  3.97914009e-005,  8.75945816e-005,\n",
       "        1.09884428e-004,  7.91943027e-005,  1.21722568e-004,\n",
       "        1.20205315e-004,  1.16445968e-004,  8.32429552e-005,\n",
       "        8.50398786e-005,  1.03929306e-004,  1.04650116e-004,\n",
       "        3.70524046e-005,  3.26897330e-005,  6.28855212e-005,\n",
       "        8.84495711e-005,  6.44371231e-005,  3.54407971e-005,\n",
       "        7.80059394e-005,  8.23100008e-005,  6.15702140e-005,\n",
       "        6.72648855e-005,  6.50888065e-005,  7.18209872e-005,\n",
       "        5.22901079e-005,  4.11863154e-005,  1.87818813e-005,\n",
       "        6.12442074e-005,  5.05348027e-005,  3.92843867e-005,\n",
       "        2.52975257e-005,  4.68619730e-005,  4.58372083e-005,\n",
       "        3.57469490e-005,  3.89254630e-005,  3.51124419e-005,\n",
       "        2.97158857e-005,  2.44630734e-005,  2.20860850e-005,\n",
       "        1.89349640e-005,  1.82198500e-005,  1.42543482e-005,\n",
       "        1.17094278e-005,  7.73297122e-006,  4.43269200e-006])"
      ]
     },
     "execution_count": 12,
     "metadata": {},
     "output_type": "execute_result"
    }
   ],
   "source": [
    "P"
   ]
  }
 ],
 "metadata": {
  "interpreter": {
   "hash": "bb9f406c0f70fca9801e60f2cbb7cd1ccff2ae2f74c58f513340bcf6cae5ecd0"
  },
  "kernelspec": {
   "display_name": "Python 3",
   "language": "python",
   "name": "python3"
  },
  "language_info": {
   "codemirror_mode": {
    "name": "ipython",
    "version": 3
   },
   "file_extension": ".py",
   "mimetype": "text/x-python",
   "name": "python",
   "nbconvert_exporter": "python",
   "pygments_lexer": "ipython3",
   "version": "3.7.11"
  }
 },
 "nbformat": 4,
 "nbformat_minor": 4
}
